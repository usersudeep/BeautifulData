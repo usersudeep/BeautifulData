{
 "cells": [
  {
   "cell_type": "code",
   "execution_count": 1,
   "id": "0a3ef512-f256-409e-b9f0-371289d3d753",
   "metadata": {},
   "outputs": [],
   "source": [
    "from bs4 import BeautifulSoup\n",
    "import requests\n",
    "import smtplib\n",
    "import datetime\n",
    "import time"
   ]
  },
  {
   "cell_type": "code",
   "execution_count": 17,
   "id": "a44cd44a-65a8-4635-a2b9-34a49c75ea04",
   "metadata": {},
   "outputs": [],
   "source": [
    "url=\"https://leetcode.com/u/Sudeepa_Holla/\"\n",
    "headers={\"Accept\": \"text/html,application/xhtml+xml,application/xml;q=0.9,image/avif,image/webp,image/apng,*/*;q=0.8\"}\n",
    "bc=requests.get(url,headers=headers)"
   ]
  },
  {
   "cell_type": "code",
   "execution_count": 40,
   "id": "cd2adce8-7405-4ff3-b015-aa95c8adae2f",
   "metadata": {},
   "outputs": [
    {
     "name": "stdout",
     "output_type": "stream",
     "text": [
      "<!DOCTYPE html>\n",
      "<html lang=\"en-US\"><head><title>Just a moment...</title><meta content=\"text/html; charset=utf-8\" http-equiv=\"Content-Type\"/><meta content=\"IE=Edge\" http-equiv=\"X-UA-Compatible\"/><meta content=\"noindex,nofollow\" name=\"robots\"/><meta content=\"width=device-width,initial-scale=1\" name=\"viewport\"/><style>*{box-sizing:border-box;margin:0;padding:0}html{line-height:1.15;-webkit-text-size-adjust:100%;color:#313131}button,html{font-family:system-ui,-apple-system,BlinkMacSystemFont,Segoe UI,Roboto,Helvetica Neue,Arial,Noto Sans,sans-serif,Apple Color Emoji,Segoe UI Emoji,Segoe UI Symbol,Noto Color Emoji}@media (prefers-color-scheme:dark){body{background-color:#222;color:#d9d9d9}body a{color:#fff}body a:hover{color:#ee730a;text-decoration:underline}body .lds-ring div{border-color:#999 transparent transparent}body .font-red{color:#b20f03}body .pow-button{background-color:#4693ff;color:#1d1d1d}body #challenge-success-text{background-image:url(data:image/svg+xml;base64,PHN2ZyB4bWxucz0iaHR0cDovL3d3dy53My5vcmcvMjAwMC9zdmciIHdpZHRoPSIzMiIgaGVpZ2h0PSIzMiIgZmlsbD0ibm9uZSIgdmlld0JveD0iMCAwIDI2IDI2Ij48cGF0aCBmaWxsPSIjZDlkOWQ5IiBkPSJNMTMgMGExMyAxMyAwIDEgMCAwIDI2IDEzIDEzIDAgMCAwIDAtMjZtMCAyNGExMSAxMSAwIDEgMSAwLTIyIDExIDExIDAgMCAxIDAgMjIiLz48cGF0aCBmaWxsPSIjZDlkOWQ5IiBkPSJtMTAuOTU1IDE2LjA1NS0zLjk1LTQuMTI1LTEuNDQ1IDEuMzg1IDUuMzcgNS42MSA5LjQ5NS05LjYtMS40Mi0xLjQwNXoiLz48L3N2Zz4=)}body #challenge-error-text{background-image:url(data:image/svg+xml;base64,PHN2ZyB4bWxucz0iaHR0cDovL3d3dy53My5vcmcvMjAwMC9zdmciIHdpZHRoPSIzMiIgaGVpZ2h0PSIzMiIgZmlsbD0ibm9uZSI+PHBhdGggZmlsbD0iI0IyMEYwMyIgZD0iTTE2IDNhMTMgMTMgMCAxIDAgMTMgMTNBMTMuMDE1IDEzLjAxNSAwIDAgMCAxNiAzbTAgMjRhMTEgMTEgMCAxIDEgMTEtMTEgMTEuMDEgMTEuMDEgMCAwIDEtMTEgMTEiLz48cGF0aCBmaWxsPSIjQjIwRjAzIiBkPSJNMTcuMDM4IDE4LjYxNUgxNC44N0wxNC41NjMgOS41aDIuNzgzem0tMS4wODQgMS40MjdxLjY2IDAgMS4wNTcuMzg4LjQwNy4zODkuNDA3Ljk5NCAwIC41OTYtLjQwNy45ODQtLjM5Ny4zOS0xLjA1Ny4zODktLjY1IDAtMS4wNTYtLjM4OS0uMzk4LS4zODktLjM5OC0uOTg0IDAtLjU5Ny4zOTgtLjk4NS40MDYtLjM5NyAxLjA1Ni0uMzk3Ii8+PC9zdmc+)}}body{display:flex;flex-direction:column;min-height:100vh}body.no-js .loading-spinner{visibility:hidden}body.no-js .challenge-running{display:none}body.dark{background-color:#222;color:#d9d9d9}body.dark a{color:#fff}body.dark a:hover{color:#ee730a;text-decoration:underline}body.dark .lds-ring div{border-color:#999 transparent transparent}body.dark .font-red{color:#b20f03}body.dark .pow-button{background-color:#4693ff;color:#1d1d1d}body.dark #challenge-success-text{background-image:url(data:image/svg+xml;base64,PHN2ZyB4bWxucz0iaHR0cDovL3d3dy53My5vcmcvMjAwMC9zdmciIHdpZHRoPSIzMiIgaGVpZ2h0PSIzMiIgZmlsbD0ibm9uZSIgdmlld0JveD0iMCAwIDI2IDI2Ij48cGF0aCBmaWxsPSIjZDlkOWQ5IiBkPSJNMTMgMGExMyAxMyAwIDEgMCAwIDI2IDEzIDEzIDAgMCAwIDAtMjZtMCAyNGExMSAxMSAwIDEgMSAwLTIyIDExIDExIDAgMCAxIDAgMjIiLz48cGF0aCBmaWxsPSIjZDlkOWQ5IiBkPSJtMTAuOTU1IDE2LjA1NS0zLjk1LTQuMTI1LTEuNDQ1IDEuMzg1IDUuMzcgNS42MSA5LjQ5NS05LjYtMS40Mi0xLjQwNXoiLz48L3N2Zz4=)}body.dark #challenge-error-text{background-image:url(data:image/svg+xml;base64,PHN2ZyB4bWxucz0iaHR0cDovL3d3dy53My5vcmcvMjAwMC9zdmciIHdpZHRoPSIzMiIgaGVpZ2h0PSIzMiIgZmlsbD0ibm9uZSI+PHBhdGggZmlsbD0iI0IyMEYwMyIgZD0iTTE2IDNhMTMgMTMgMCAxIDAgMTMgMTNBMTMuMDE1IDEzLjAxNSAwIDAgMCAxNiAzbTAgMjRhMTEgMTEgMCAxIDEgMTEtMTEgMTEuMDEgMTEuMDEgMCAwIDEtMTEgMTEiLz48cGF0aCBmaWxsPSIjQjIwRjAzIiBkPSJNMTcuMDM4IDE4LjYxNUgxNC44N0wxNC41NjMgOS41aDIuNzgzem0tMS4wODQgMS40MjdxLjY2IDAgMS4wNTcuMzg4LjQwNy4zODkuNDA3Ljk5NCAwIC41OTYtLjQwNy45ODQtLjM5Ny4zOS0xLjA1Ny4zODktLjY1IDAtMS4wNTYtLjM4OS0uMzk4LS4zODktLjM5OC0uOTg0IDAtLjU5Ny4zOTgtLjk4NS40MDYtLjM5NyAxLjA1Ni0uMzk3Ii8+PC9zdmc+)}body.light{background-color:transparent;color:#313131}body.light a{color:#0051c3}body.light a:hover{color:#ee730a;text-decoration:underline}body.light .lds-ring div{border-color:#595959 transparent transparent}body.light .font-red{color:#fc574a}body.light .pow-button{background-color:#003681;border-color:#003681;color:#fff}body.light #challenge-success-text{background-image:url(data:image/svg+xml;base64,PHN2ZyB4bWxucz0iaHR0cDovL3d3dy53My5vcmcvMjAwMC9zdmciIHdpZHRoPSIzMiIgaGVpZ2h0PSIzMiIgZmlsbD0ibm9uZSIgdmlld0JveD0iMCAwIDI2IDI2Ij48cGF0aCBmaWxsPSIjMzEzMTMxIiBkPSJNMTMgMGExMyAxMyAwIDEgMCAwIDI2IDEzIDEzIDAgMCAwIDAtMjZtMCAyNGExMSAxMSAwIDEgMSAwLTIyIDExIDExIDAgMCAxIDAgMjIiLz48cGF0aCBmaWxsPSIjMzEzMTMxIiBkPSJtMTAuOTU1IDE2LjA1NS0zLjk1LTQuMTI1LTEuNDQ1IDEuMzg1IDUuMzcgNS42MSA5LjQ5NS05LjYtMS40Mi0xLjQwNXoiLz48L3N2Zz4=)}body.light #challenge-error-text{background-image:url(data:image/svg+xml;base64,PHN2ZyB4bWxucz0iaHR0cDovL3d3dy53My5vcmcvMjAwMC9zdmciIHdpZHRoPSIzMiIgaGVpZ2h0PSIzMiIgZmlsbD0ibm9uZSI+PHBhdGggZmlsbD0iI2ZjNTc0YSIgZD0iTTE2IDNhMTMgMTMgMCAxIDAgMTMgMTNBMTMuMDE1IDEzLjAxNSAwIDAgMCAxNiAzbTAgMjRhMTEgMTEgMCAxIDEgMTEtMTEgMTEuMDEgMTEuMDEgMCAwIDEtMTEgMTEiLz48cGF0aCBmaWxsPSIjZmM1NzRhIiBkPSJNMTcuMDM4IDE4LjYxNUgxNC44N0wxNC41NjMgOS41aDIuNzgzem0tMS4wODQgMS40MjdxLjY2IDAgMS4wNTcuMzg4LjQwNy4zODkuNDA3Ljk5NCAwIC41OTYtLjQwNy45ODQtLjM5Ny4zOS0xLjA1Ny4zODktLjY1IDAtMS4wNTYtLjM4OS0uMzk4LS4zODktLjM5OC0uOTg0IDAtLjU5Ny4zOTgtLjk4NS40MDYtLjM5NyAxLjA1Ni0uMzk3Ii8+PC9zdmc+)}a{background-color:transparent;color:#0051c3;text-decoration:none;transition:color .15s ease}a:hover{color:#ee730a;text-decoration:underline}.main-content{margin:8rem auto;max-width:60rem;width:100%}.heading-favicon{height:2rem;margin-right:.5rem;width:2rem}@media (width <= 720px){.main-content{margin-top:4rem}.heading-favicon{height:1.5rem;width:1.5rem}}.footer,.main-content{padding-left:1.5rem;padding-right:1.5rem}.main-wrapper{align-items:center;display:flex;flex:1;flex-direction:column}.font-red{color:#b20f03}.spacer{margin:2rem 0}.h1{font-size:2.5rem;font-weight:500;line-height:3.75rem}.h2{font-weight:500}.core-msg,.h2{font-size:1.5rem;line-height:2.25rem}.body-text,.core-msg{font-weight:400}.body-text{font-size:1rem;line-height:1.25rem}@media (width <= 720px){.h1{font-size:1.5rem;line-height:1.75rem}.h2{font-size:1.25rem}.core-msg,.h2{line-height:1.5rem}.core-msg{font-size:1rem}}#challenge-error-text{background-image:url(data:image/svg+xml;base64,PHN2ZyB4bWxucz0iaHR0cDovL3d3dy53My5vcmcvMjAwMC9zdmciIHdpZHRoPSIzMiIgaGVpZ2h0PSIzMiIgZmlsbD0ibm9uZSI+PHBhdGggZmlsbD0iI2ZjNTc0YSIgZD0iTTE2IDNhMTMgMTMgMCAxIDAgMTMgMTNBMTMuMDE1IDEzLjAxNSAwIDAgMCAxNiAzbTAgMjRhMTEgMTEgMCAxIDEgMTEtMTEgMTEuMDEgMTEuMDEgMCAwIDEtMTEgMTEiLz48cGF0aCBmaWxsPSIjZmM1NzRhIiBkPSJNMTcuMDM4IDE4LjYxNUgxNC44N0wxNC41NjMgOS41aDIuNzgzem0tMS4wODQgMS40MjdxLjY2IDAgMS4wNTcuMzg4LjQwNy4zODkuNDA3Ljk5NCAwIC41OTYtLjQwNy45ODQtLjM5Ny4zOS0xLjA1Ny4zODktLjY1IDAtMS4wNTYtLjM4OS0uMzk4LS4zODktLjM5OC0uOTg0IDAtLjU5Ny4zOTgtLjk4NS40MDYtLjM5NyAxLjA1Ni0uMzk3Ii8+PC9zdmc+);padding-left:34px}#challenge-error-text,#challenge-success-text{background-repeat:no-repeat;background-size:contain}#challenge-success-text{background-image:url(data:image/svg+xml;base64,PHN2ZyB4bWxucz0iaHR0cDovL3d3dy53My5vcmcvMjAwMC9zdmciIHdpZHRoPSIzMiIgaGVpZ2h0PSIzMiIgZmlsbD0ibm9uZSIgdmlld0JveD0iMCAwIDI2IDI2Ij48cGF0aCBmaWxsPSIjMzEzMTMxIiBkPSJNMTMgMGExMyAxMyAwIDEgMCAwIDI2IDEzIDEzIDAgMCAwIDAtMjZtMCAyNGExMSAxMSAwIDEgMSAwLTIyIDExIDExIDAgMCAxIDAgMjIiLz48cGF0aCBmaWxsPSIjMzEzMTMxIiBkPSJtMTAuOTU1IDE2LjA1NS0zLjk1LTQuMTI1LTEuNDQ1IDEuMzg1IDUuMzcgNS42MSA5LjQ5NS05LjYtMS40Mi0xLjQwNXoiLz48L3N2Zz4=);padding-left:42px}.text-center{text-align:center}.pow-button{background-color:#0051c3;border:.063rem solid #0051c3;border-radius:.313rem;color:#fff;font-size:.875rem;line-height:1.313rem;margin:2rem 0;padding:.375rem 1rem;transition-duration:.2s;transition-property:background-color,border-color,color;transition-timing-function:ease}.pow-button:hover{background-color:#003681;border-color:#003681;color:#fff;cursor:pointer}.footer{font-size:.75rem;line-height:1.125rem;margin:0 auto;max-width:60rem;width:100%}.footer-inner{border-top:1px solid #d9d9d9;padding-bottom:1rem;padding-top:1rem}.clearfix:after{clear:both;content:\"\";display:table}.clearfix .column{float:left;padding-right:1.5rem;width:50%}.diagnostic-wrapper{margin-bottom:.5rem}.footer .ray-id{text-align:center}.footer .ray-id code{font-family:monaco,courier,monospace}.core-msg,.zone-name-title{overflow-wrap:break-word}@media (width <= 720px){.diagnostic-wrapper{display:flex;flex-wrap:wrap;justify-content:center}.clearfix:after{clear:none;content:none;display:initial;text-align:center}.column{padding-bottom:2rem}.clearfix .column{float:none;padding:0;width:auto;word-break:keep-all}.zone-name-title{margin-bottom:1rem}}.loading-spinner{height:76.391px}.lds-ring{display:inline-block;position:relative}.lds-ring,.lds-ring div{height:1.875rem;width:1.875rem}.lds-ring div{animation:lds-ring 1.2s cubic-bezier(.5,0,.5,1) infinite;border:.3rem solid transparent;border-radius:50%;border-top-color:#313131;box-sizing:border-box;display:block;position:absolute}.lds-ring div:first-child{animation-delay:-.45s}.lds-ring div:nth-child(2){animation-delay:-.3s}.lds-ring div:nth-child(3){animation-delay:-.15s}@keyframes lds-ring{0%{transform:rotate(0)}to{transform:rotate(1turn)}}@media screen and (-ms-high-contrast:active),screen and (-ms-high-contrast:none){.main-wrapper,body{display:block}}.rtl .heading-favicon{margin-left:.5rem;margin-right:0}.rtl #challenge-success-text{background-position:100%;padding-left:0;padding-right:42px}.rtl #challenge-error-text{background-position:100%;padding-left:0;padding-right:34px}</style><meta content=\"390\" http-equiv=\"refresh\"/></head><body class=\"no-js\"><div class=\"main-wrapper\" role=\"main\"><div class=\"main-content\"><noscript><div id=\"challenge-error-title\"><div class=\"h2\"><span id=\"challenge-error-text\">Enable JavaScript and cookies to continue</span></div></div></noscript></div></div><script>(function(){window._cf_chl_opt={cvId: '3',cZone: \"leetcode.com\",cType: 'managed',cNounce: '41902',cRay: '8b52d6aaccca3965',cHash: '010e8f3f18f79c6',cUPMDTk: \"\\/u\\/Sudeepa_Holla\\/?__cf_chl_tk=QG89WtQ86.O6UJX1gqLI6cTeWEg2UVu0mARS.8tOrfg-1723993908-0.0.1.1-4393\",cFPWv: 'g',cTTimeMs: '1000',cMTimeMs: '390000',cTplV: 5,cTplB: 'cf',cK: \"\",fa: \"\\/u\\/Sudeepa_Holla\\/?__cf_chl_f_tk=QG89WtQ86.O6UJX1gqLI6cTeWEg2UVu0mARS.8tOrfg-1723993908-0.0.1.1-4393\",md: \"clBiPYxdTqwD8i5JmoM2Q3hkIbJRyzz_SoTDoQF4PqE-1723993908-1.1.1.1-QPlwMAOSE3rPGgxYuHhYWNfFd2vuCjARcZ.OZh_pvIrA37aQomuCVvKmck076T2Ypem3eKZmFioAi1aM2waYGvUeWDs1h74AoWQNeyDno_XoGGwby0FR3JSzdjcdhCXip_0Po24rqiMjHNPzxn1Ql.tkoBrz3lxz7e2s2DvSi2PKf3IIjzyAGiJw_eAFFnS3LN16bhGOMcFGgWZC5aeYd8.M8_QMgFvP.mvvkrHgcJVLTFHqa9NqZzUxoWx26olP0erssiNS3LRDhEhco4RZ9NMR7fNhmDLVJ50X5vmwtk.iIoR8PFkIlhYdnKL6aHxR4aWiDhfZFnHd363GHr0QP8XfauiHBbuS7JklG.FnlfxQE8I_.wKj5i2GQTe8ZekCtJ3h7oTRrva2YDn2CtyO0izIGzU5H5uDyq2tvVFIQ760x3dtF9XG7F4Qykorw3bpTM6ejYMwPNX8_KkZARcq5MExIal3QE5C4KuEwp5uSkL8ONbl34hnKXXXV7tX82m4HiS.gVxXnYITjuSMNxUduOJxgEhWb7pM1qvSDOAuIMs8zZf_aJ4s1y5mauZ2VFV7htrMsrtmhi_vJrmqKYR5rg3WiYyxXlZwUeHY7o14SzNsBS20Ys2COSf6vnD1nuaWACAMdPRHwAeIVH5mcGZrJyuoie6K3qf9AQs1P7dNAZJvnezb3P.cmbw5vDiAHo.IXFlkHuziNzat_XzrNTt5NUidNf9Zi4Jz6Kg0pimZZ4XhJq6Gca0gsgN8CaNjnM9oRLxNDN6TE5Q49B_FZdVhpKe2t.E_Nr1Stsf3D6BDteDHYDh5lOP4bXIcxVtL2yBJ2NwBBrQgo0se8O2WAx6NYT_tP6z6Tj043Uj5Mx1qJaPr_Ys4jWlMNwKjmpN4a_yBBSn4lP6Osw9WMlkDQFIPXjN6PnwOOe22AcgpCXSBk6QPX8YpAORfPGACYXjqqyUnFIKZMsdVl9l2cHNEnjkkxtoHPHFeGXcHZvGJsy7IQx1.H9q8GB4B2CFU7rp1_3OnN1zHXaR_ItRJJyFDzCzCpDvhJAfypY8F9CZoXTONLnSOnreyulAhgSyn2JzfMOU.NMzQmQbjQRzJZQ6b0Wo2m.ykRKuivViJ9AsehHzHYxLPlTk.qU94_nD9Fw_HQfIo4guFrjBzGrIsV4f00qXi1RiWOiFm_k_FIeDSwm2iAOaXCj44bfrmlyYwpDOEzo1k_2cQGrYsRQXKIUA_kg9RsVbQsB6j.VxmXjyrPEHltbuq1EhQXUtdkQqOnLzZeyat4OovEmq4Hy86v7xco9738ROH2I.HN4YLRks32lOPW0YaQPFrIDXJ4kQoDwct1K9DPy4nL7Nm3tP86rIe3GjSfOvAFlofO3AcYOQLAk5vKLtUFH8hCMrQEXW93cSbRtsPHSgdWLlvM4Leq.kzhUPVS5popzZv7uh2.MXz.eHcI1ejN1fNOVGa0Rd4wtdfnp2NjPoBOmuIvEelRhzma6iAfLhdGN5p37nQ_kfGwcABMWOvtXcZrs_8gOYBuFJ4RuUHEfsAKGy4_HUWvfs6q9zikhdggUcAeTm4nTA_sqYy4Y9yHg221vOHQOhGWPDb57Ch9_QAsq1.6xCZ0IToJpvmVEsf8Z1AHDk3isUBie0NYAj_0mlsy1iMF06zm._FAxr4JeeW5afseQNM.WcryxsBnZGFfY0_riIR33ylNLUywDSnC9ujA5IoY_r1e8t3ZwLPgfoDw6MX87.h.6uA8DYAqKcM9F_SRzE46Xqng_ARFLwcqncBps3PvPzbT_4UfqOVeIB4jxjsksoTAIWpZL7VOw8KUiOtA_lk96URuzhdxW5PliQePc4gARIJjIzzT.dB_7BgppUG.JD_Tb8ppOG4GoQNDG.esn5DvIclF4DQsYQyZenFmQRVvrD2pYbFy3D87_jM1e3ik6QHSuc18nk9RHdlijmv9P19RvHw2JRqFpCYhDHIRmLqqqtjKdIOfULYAqwnC0RSMo.I681ZmC0b2IqvH4jYTVlGuU4BFfvPFhjqcvXa85sAx1zjgII095W1z9ZLBGLT09LpqjT1nngti5at3A.F_eoVdAbiaZifMLg\",mdrd: \"nEhgiwzTE1zrHUhFcz98ZV28fgdJipOR7pItWvKr_zQ-1723993908-1.1.1.1-DAaz.RZl1i2fI2bFP7dawKszc0LlQh7b4Bns9fOH2iwqGJLR4j5jFNYYgFlBK7hrV_FDq8ogTUYNMgS8fDw3RsE6LR40_Auaj1BGRN3qWNwjWlHNLXUD6lbXMnimhC0JobflXw.3X6dyMzHwL.GsPgz3o54wiDHsKl.TOYQJ8DcAaGLR3bGc1.NyXYHT5ghP6xLglqp6qJQUZbkGq7DXrdNKkf3oY6vh.QdCRpRIgB78sJaRb0IS8Upcmm4JhnwZ0BllSDCXcT8d8zm2UXHHWeaP5O0L6mWzD_nNdLz1FijDHMjbl3D7uelDGO5CbN_74bnqh1VOQEJT4tsJH8IdrAW86PoTmtYtr8IxQq6UKvE9hS4gu7RZ8LF6J39z_dCc2Ot67GUV3GYizfjMMmMPKmvAUxn5HzIASbwEIXZpGzS1jbfBUZ7cerUySvhDlW26dJ0e3XLwf83lmoRuzineC1dg55LtNzgNNmHrQfJq3dxqzYM35OgaTNHcdJCHgtGwlPD.xWhUUmjQNpj4ulc11Ae1NHJalG.ZzFa1wEPyEjh5EOX02FlVauFZV_rp50ZOCtYfcJ0aSObQi46Okq1UY0K8tyTm86pKHGYqLoFRwpMYPzzhwC65IHqNj4afiUyWNq7F6XbQRJBw7Rd6712HOF5USksKRh998ZCIJ_9yWINV8hQETy4a02H.hbDoyYkejfYQaLuVSAyNcwrqEIzu7y2JWb9OgGKsEG1tP651TXs9OU2P_A69sfzQKgGQiaU_DE74w5rTzVY822gw9CIyX9roUgFhfOZrmcwkQxXH.3YsFc.DLc_OhMQLE4CN.F.kYTxUsPm0uclIpUwrFt_X3b20OghswWLm9W.hhW4g3p1_1_4SFzRFrL777QMPoVAEY.eynWOB0er1Du0xo5fCR4xsk0ZDEiWSwUQziPL2gNPgnG3SGIigWOu2ayqTcUzCcvnL2vrxK2_BEnguVP353d.SCJxMnTTEShLSalcmD9oWBVKGhILTPyyHYGVTsOrF9T_ZwEUK6LmX4lynirESKXBnQM4Uykv0BpIIHPnw9ktx3EmHLs5BWIssWpO5cvaRGgLJ7LCgn7XxA166mPqfrks.ZjEluvqDQwxybmdV7BQikOriY.Kq1aBrxaYlYb5O0heH3g46Bv5FDKkvdvB9hnoPQc8R7.NMrowUbDWusEjCeqTqX_9gczpXdy7PHvKztMu2TOvmYhcj1iBARAD8IHv_n6IkW2u34JlSQ1tVnpYoifIlhTJo4aYmp06QcDHdxG2E4xMauj55ja3IjyFfNtSlRSQGyyyQgirexLVxar7koPa0JYnahw6JSOZzRFrR3cjFNIgU4LgzRcJIqyPpriOPO9PZgApUHfFr3MMCoiLFsghhZuofjoeLXTveDs6E9Uj81xoK0cKIKh.n8NMRVjNjoRguEgExS5oHUsRJHw6HaIeiuk9DxAPCyiwdOlbdMYswYX1a__MV1hd5JX6L111SEpZmovBxWvy8F.vHGeqYAwGGyrPWPY4n.ut.4NBZk4Bbn6qw5CU.Pv5XzkWTuocp4ai51SzQD_PEVIxYPR.ZvEnRiNRW53GBTAWHKFtcTfquVETvQQMw43ymSvrXW0M7MPZX7TVSAMwuWa.nS7nXFlyp_jnwAatK94XsFKxDMO9EFI49R2tLzO4Wy2XFGdeReB1kiaa6KyNXK80J2NshWoe8vfRI4pwkbIxSrpbB0p3nkKn_z.UfWNONfaa97MZLDNrWjJOCf5zZJiLWhyVqDY5zRU_kCISumNCVwlsRJfgZsNIKHJ.Dds.CahPQ4Ds2jPNOXO9ffJzbfmei9ozhx5K2DGsm7TKtn8tzKx.b7KAifrHkYYd8aVth5KaQmj7z0kanD4PEOdiH4IQtGK2KwJEGwA6anJ63Vg4P2eG18ny1FqlFmWZcBhKlbBUY.fZ.q1h3FWaa3HEdunuHK8H775NvXcuM2gqz98AJYxeTxkVJx2ugdCaIgAcgKT9s0ij2A1zRq3swVl9Gn241bKRSwJmPDlejDB__GD4O07PJirPSDgAFzCTbYxljrCW2pjxOqI_TasgEQfDgqecreHDatkTt.BO1YYz6AuIilP4IpVUSQQI0vxgbwq7mLUO8eYXvzV4Gbghen0dwfF6D4yIjoS6z3OVm1QJbClwx.ZWu\",cRq: {ru: 'aHR0cHM6Ly9sZWV0Y29kZS5jb20vdS9TdWRlZXBhX0hvbGxhLw==',ra: 'cHl0aG9uLXJlcXVlc3RzLzIuMzIuMg==',d: '3ajc4+I/VfMm8LPueMtDlaaCJPiWqMLbUHuyplq+hfxhoV7cq8KMgQPeB1QeUyjvwKg5uf82NxlIcLi3Mv4gdFY1Pa10LzIJhnvDUMjUABokz78hZ0dYIMcvFU9k4aJuviMKog5hsjcWQPvhLw+cyFAscJyNTz81lDpfSa4S6yVnAaA2Jc449Uy80l8bjy8F/yStaAbbv1RY30htIqhvZ99im62Sd8xqxNxZJt12lBaBkCHJk4cYIA9ZecFCYYP+21YuEpEsq82orj2HcIz6hH5AWSBmVMSQFYCmnHeUKcj5XpkOdUyf/nLPTU5cxSDua7C+PfrYeWuIXtaIeUetM5TSeG8lnqMOQ67QKOdeQqYO6U51yiWVlSMHuImFY9ap0Ndzj6V1eRerCdiss/uuzRF1xsn3cQ18b6Gly4HKG51kE4wUwiW+mucZ3s0+4jTb0I81ImwDy/GKGCKI8acNwoExbJG0Mg0/cs4z8W7iIUrEXyHbDc7w5AQ8psfPKTOQc7eNjllHBRY/4rHV08/uDQ==',t: 'MTcyMzk5MzkwOC4wMDAwMDA=',cT: Math.floor(Date.now() / 1000),m: 'eFAsvIAtYcu+zkoNY7rdypTtkxG+BRLHDr26skzhg3Q=',i1: 'WN7rSZuimHK3UfcjAiECwA==',i2: 'qGQTa2nan7yEzpI1ogY5WQ==',zh: '6dW5KLsjmoGStZm/w3CUkISq8657AEI6JKhvmam58xM=',uh: 'EUgwVVbDQukXggN+0px9kCx0gctYzZkEeWUabYqwW7Y=',hh: 'Lb0VxCKQFzTc4iX077lkQv6YXNlmOsxL7hMPdtK/ZKE=',}};var cpo = document.createElement('script');cpo.src = '/cdn-cgi/challenge-platform/h/g/orchestrate/chl_page/v1?ray=8b52d6aaccca3965';window._cf_chl_opt.cOgUHash = location.hash === '' && location.href.indexOf('#') !== -1 ? '#' : location.hash;window._cf_chl_opt.cOgUQuery = location.search === '' && location.href.slice(0, location.href.length - window._cf_chl_opt.cOgUHash.length).indexOf('?') !== -1 ? '?' : location.search;if (window.history && window.history.replaceState) {var ogU = location.pathname + window._cf_chl_opt.cOgUQuery + window._cf_chl_opt.cOgUHash;history.replaceState(null, null, \"\\/u\\/Sudeepa_Holla\\/?__cf_chl_rt_tk=QG89WtQ86.O6UJX1gqLI6cTeWEg2UVu0mARS.8tOrfg-1723993908-0.0.1.1-4393\" + window._cf_chl_opt.cOgUHash);cpo.onload = function() {history.replaceState(null, null, ogU);}}document.getElementsByTagName('head')[0].appendChild(cpo);}());</script></body></html>\n"
     ]
    }
   ],
   "source": [
    "q=BeautifulSoup(bc.content,\"html.parser\")\n",
    "print(q)"
   ]
  },
  {
   "cell_type": "code",
   "execution_count": 44,
   "id": "abb0000e-589b-4a2d-a47f-95a0b6dd2fad",
   "metadata": {},
   "outputs": [
    {
     "name": "stdout",
     "output_type": "stream",
     "text": [
      "Enable JavaScript and cookies to continue\n"
     ]
    }
   ],
   "source": [
    "q1=q.find(id=\"challenge-error-text\")\n",
    "print(q1.get_text())"
   ]
  },
  {
   "cell_type": "code",
   "execution_count": null,
   "id": "11b13895-2231-4306-9740-4f96b62a1838",
   "metadata": {},
   "outputs": [],
   "source": []
  }
 ],
 "metadata": {
  "kernelspec": {
   "display_name": "Python 3 (ipykernel)",
   "language": "python",
   "name": "python3"
  },
  "language_info": {
   "codemirror_mode": {
    "name": "ipython",
    "version": 3
   },
   "file_extension": ".py",
   "mimetype": "text/x-python",
   "name": "python",
   "nbconvert_exporter": "python",
   "pygments_lexer": "ipython3",
   "version": "3.12.4"
  }
 },
 "nbformat": 4,
 "nbformat_minor": 5
}
